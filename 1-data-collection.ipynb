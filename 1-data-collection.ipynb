{
 "cells": [
  {
   "cell_type": "code",
   "execution_count": 1,
   "metadata": {},
   "outputs": [],
   "source": [
    "import requests\n",
    "import os\n",
    "import datetime\n",
    "import pandas as pd\n",
    "from bs4 import BeautifulSoup\n",
    "from dotenv import load_dotenv\n",
    "from tqdm import tqdm"
   ]
  },
  {
   "attachments": {},
   "cell_type": "markdown",
   "metadata": {},
   "source": [
    "# **Wikipedia: S&P500 Tickers and Sector**s"
   ]
  },
  {
   "cell_type": "code",
   "execution_count": 3,
   "metadata": {},
   "outputs": [],
   "source": [
    "wiki_url = \"https://en.wikipedia.org/wiki/List_of_S%26P_500_companies\"\n",
    "response = requests.get(wiki_url)\n",
    "content = response.content\n",
    "soup = BeautifulSoup(content, 'html.parser')"
   ]
  },
  {
   "cell_type": "code",
   "execution_count": 4,
   "metadata": {},
   "outputs": [],
   "source": [
    "table = soup.find('table', class_='wikitable sortable')\n",
    "rows = table.find_all('tr')[1:]"
   ]
  },
  {
   "cell_type": "code",
   "execution_count": 5,
   "metadata": {},
   "outputs": [],
   "source": [
    "tickers = []\n",
    "sector_ticker_dict = {}\n",
    "\n",
    "for row in rows:\n",
    "    cells = row.find_all('td')\n",
    "    tickers.append(cells[0].text.strip())\n",
    "    sector_ticker_dict[cells[0].text.strip()] = cells[2].text.strip()"
   ]
  },
  {
   "attachments": {},
   "cell_type": "markdown",
   "metadata": {},
   "source": [
    "# **FMP API: Financial Data from the last 10 years**"
   ]
  },
  {
   "cell_type": "code",
   "execution_count": 68,
   "metadata": {},
   "outputs": [],
   "source": [
    "load_dotenv('.env')\n",
    "api_key = os.getenv('FMP_KEY')"
   ]
  },
  {
   "cell_type": "code",
   "execution_count": 69,
   "metadata": {},
   "outputs": [],
   "source": [
    "sample_ticker = 'AAPL'\n",
    "sample_days = 2520\n",
    "sample_endpoint = f'https://financialmodelingprep.com/api/v3/historical-price-full/{sample_ticker}?timeseries={sample_days}&apikey={api_key}'\n",
    "\n",
    "sample_response = requests.get(sample_endpoint)\n",
    "sample_data = sample_response.json()"
   ]
  },
  {
   "cell_type": "code",
   "execution_count": 70,
   "metadata": {},
   "outputs": [],
   "source": [
    "columns = list(sample_data['historical'][0].keys()) + ['symbol']"
   ]
  },
  {
   "cell_type": "code",
   "execution_count": 71,
   "metadata": {},
   "outputs": [],
   "source": [
    "def endpoint_string_10_years(ticker, days):\n",
    "    return f'https://financialmodelingprep.com/api/v3/historical-price-full/{ticker}?timeseries={days}&apikey={api_key}'"
   ]
  },
  {
   "cell_type": "code",
   "execution_count": 72,
   "metadata": {},
   "outputs": [
    {
     "name": "stderr",
     "output_type": "stream",
     "text": [
      "Collecting data: 100%|██████████| 503/503 [05:17<00:00,  1.58it/s]\n"
     ]
    }
   ],
   "source": [
    "sp500_df = pd.DataFrame(columns=columns)\n",
    "for ticker in tqdm(tickers, desc='Collecting data'):\n",
    "    endpoint = endpoint_string_10_years(ticker, 2520)\n",
    "    response = requests.get(endpoint)\n",
    "    data = response.json()\n",
    "\n",
    "    if data:\n",
    "        df = pd.DataFrame(data['historical'])\n",
    "        df['symbol'] = ticker\n",
    "    else:\n",
    "        print(f'No data for {ticker}.')\n",
    "    sp500_df = pd.concat([sp500_df, df], ignore_index=True)"
   ]
  },
  {
   "cell_type": "code",
   "execution_count": 74,
   "metadata": {},
   "outputs": [
    {
     "data": {
      "text/html": [
       "<div>\n",
       "<style scoped>\n",
       "    .dataframe tbody tr th:only-of-type {\n",
       "        vertical-align: middle;\n",
       "    }\n",
       "\n",
       "    .dataframe tbody tr th {\n",
       "        vertical-align: top;\n",
       "    }\n",
       "\n",
       "    .dataframe thead th {\n",
       "        text-align: right;\n",
       "    }\n",
       "</style>\n",
       "<table border=\"1\" class=\"dataframe\">\n",
       "  <thead>\n",
       "    <tr style=\"text-align: right;\">\n",
       "      <th></th>\n",
       "      <th>date</th>\n",
       "      <th>open</th>\n",
       "      <th>high</th>\n",
       "      <th>low</th>\n",
       "      <th>close</th>\n",
       "      <th>adjClose</th>\n",
       "      <th>volume</th>\n",
       "      <th>unadjustedVolume</th>\n",
       "      <th>change</th>\n",
       "      <th>changePercent</th>\n",
       "      <th>vwap</th>\n",
       "      <th>label</th>\n",
       "      <th>changeOverTime</th>\n",
       "      <th>symbol</th>\n",
       "    </tr>\n",
       "  </thead>\n",
       "  <tbody>\n",
       "    <tr>\n",
       "      <th>53498</th>\n",
       "      <td>2023-09-28</td>\n",
       "      <td>169.34</td>\n",
       "      <td>172.026</td>\n",
       "      <td>167.62</td>\n",
       "      <td>170.55</td>\n",
       "      <td>170.55</td>\n",
       "      <td>41404049</td>\n",
       "      <td>41404049</td>\n",
       "      <td>1.21</td>\n",
       "      <td>0.714539</td>\n",
       "      <td>170.07</td>\n",
       "      <td>September 28, 23</td>\n",
       "      <td>0.007145</td>\n",
       "      <td>AAPL</td>\n",
       "    </tr>\n",
       "    <tr>\n",
       "      <th>53499</th>\n",
       "      <td>2023-09-27</td>\n",
       "      <td>172.62</td>\n",
       "      <td>173.040</td>\n",
       "      <td>169.05</td>\n",
       "      <td>170.43</td>\n",
       "      <td>170.43</td>\n",
       "      <td>66425563</td>\n",
       "      <td>63936754</td>\n",
       "      <td>-2.19</td>\n",
       "      <td>-1.270000</td>\n",
       "      <td>170.53</td>\n",
       "      <td>September 27, 23</td>\n",
       "      <td>-0.012700</td>\n",
       "      <td>AAPL</td>\n",
       "    </tr>\n",
       "    <tr>\n",
       "      <th>53500</th>\n",
       "      <td>2023-09-26</td>\n",
       "      <td>174.82</td>\n",
       "      <td>175.200</td>\n",
       "      <td>171.66</td>\n",
       "      <td>171.96</td>\n",
       "      <td>171.96</td>\n",
       "      <td>64548945</td>\n",
       "      <td>64588900</td>\n",
       "      <td>-2.86</td>\n",
       "      <td>-1.640000</td>\n",
       "      <td>172.72</td>\n",
       "      <td>September 26, 23</td>\n",
       "      <td>-0.016400</td>\n",
       "      <td>AAPL</td>\n",
       "    </tr>\n",
       "    <tr>\n",
       "      <th>53501</th>\n",
       "      <td>2023-09-25</td>\n",
       "      <td>174.20</td>\n",
       "      <td>176.970</td>\n",
       "      <td>174.15</td>\n",
       "      <td>176.08</td>\n",
       "      <td>176.08</td>\n",
       "      <td>46172740</td>\n",
       "      <td>46172700</td>\n",
       "      <td>1.88</td>\n",
       "      <td>1.080000</td>\n",
       "      <td>175.67</td>\n",
       "      <td>September 25, 23</td>\n",
       "      <td>0.010800</td>\n",
       "      <td>AAPL</td>\n",
       "    </tr>\n",
       "    <tr>\n",
       "      <th>53502</th>\n",
       "      <td>2023-09-22</td>\n",
       "      <td>174.67</td>\n",
       "      <td>177.079</td>\n",
       "      <td>174.05</td>\n",
       "      <td>174.79</td>\n",
       "      <td>174.79</td>\n",
       "      <td>56688985</td>\n",
       "      <td>56663000</td>\n",
       "      <td>0.12</td>\n",
       "      <td>0.068701</td>\n",
       "      <td>175.47</td>\n",
       "      <td>September 22, 23</td>\n",
       "      <td>0.000687</td>\n",
       "      <td>AAPL</td>\n",
       "    </tr>\n",
       "    <tr>\n",
       "      <th>...</th>\n",
       "      <td>...</td>\n",
       "      <td>...</td>\n",
       "      <td>...</td>\n",
       "      <td>...</td>\n",
       "      <td>...</td>\n",
       "      <td>...</td>\n",
       "      <td>...</td>\n",
       "      <td>...</td>\n",
       "      <td>...</td>\n",
       "      <td>...</td>\n",
       "      <td>...</td>\n",
       "      <td>...</td>\n",
       "      <td>...</td>\n",
       "      <td>...</td>\n",
       "    </tr>\n",
       "    <tr>\n",
       "      <th>54750</th>\n",
       "      <td>2018-10-05</td>\n",
       "      <td>56.99</td>\n",
       "      <td>57.100</td>\n",
       "      <td>55.15</td>\n",
       "      <td>56.07</td>\n",
       "      <td>53.70</td>\n",
       "      <td>134322000</td>\n",
       "      <td>134322000</td>\n",
       "      <td>-0.92</td>\n",
       "      <td>-1.610000</td>\n",
       "      <td>56.11</td>\n",
       "      <td>October 05, 18</td>\n",
       "      <td>-0.016100</td>\n",
       "      <td>AAPL</td>\n",
       "    </tr>\n",
       "    <tr>\n",
       "      <th>54751</th>\n",
       "      <td>2018-10-04</td>\n",
       "      <td>57.70</td>\n",
       "      <td>58.090</td>\n",
       "      <td>56.68</td>\n",
       "      <td>57.00</td>\n",
       "      <td>54.59</td>\n",
       "      <td>128168000</td>\n",
       "      <td>128168000</td>\n",
       "      <td>-0.70</td>\n",
       "      <td>-1.210000</td>\n",
       "      <td>57.26</td>\n",
       "      <td>October 04, 18</td>\n",
       "      <td>-0.012100</td>\n",
       "      <td>AAPL</td>\n",
       "    </tr>\n",
       "    <tr>\n",
       "      <th>54752</th>\n",
       "      <td>2018-10-03</td>\n",
       "      <td>57.51</td>\n",
       "      <td>58.370</td>\n",
       "      <td>57.45</td>\n",
       "      <td>58.02</td>\n",
       "      <td>55.57</td>\n",
       "      <td>114619200</td>\n",
       "      <td>114619200</td>\n",
       "      <td>0.51</td>\n",
       "      <td>0.886800</td>\n",
       "      <td>57.94</td>\n",
       "      <td>October 03, 18</td>\n",
       "      <td>0.008868</td>\n",
       "      <td>AAPL</td>\n",
       "    </tr>\n",
       "    <tr>\n",
       "      <th>54753</th>\n",
       "      <td>2018-10-02</td>\n",
       "      <td>56.81</td>\n",
       "      <td>57.500</td>\n",
       "      <td>56.66</td>\n",
       "      <td>57.32</td>\n",
       "      <td>54.90</td>\n",
       "      <td>99152800</td>\n",
       "      <td>99152800</td>\n",
       "      <td>0.51</td>\n",
       "      <td>0.897730</td>\n",
       "      <td>57.16</td>\n",
       "      <td>October 02, 18</td>\n",
       "      <td>0.008977</td>\n",
       "      <td>AAPL</td>\n",
       "    </tr>\n",
       "    <tr>\n",
       "      <th>54754</th>\n",
       "      <td>2018-10-01</td>\n",
       "      <td>56.99</td>\n",
       "      <td>57.360</td>\n",
       "      <td>56.59</td>\n",
       "      <td>56.81</td>\n",
       "      <td>54.41</td>\n",
       "      <td>94403200</td>\n",
       "      <td>94403200</td>\n",
       "      <td>-0.18</td>\n",
       "      <td>-0.315840</td>\n",
       "      <td>56.92</td>\n",
       "      <td>October 01, 18</td>\n",
       "      <td>-0.003158</td>\n",
       "      <td>AAPL</td>\n",
       "    </tr>\n",
       "  </tbody>\n",
       "</table>\n",
       "<p>1257 rows × 14 columns</p>\n",
       "</div>"
      ],
      "text/plain": [
       "             date    open     high     low   close  adjClose     volume  \\\n",
       "53498  2023-09-28  169.34  172.026  167.62  170.55    170.55   41404049   \n",
       "53499  2023-09-27  172.62  173.040  169.05  170.43    170.43   66425563   \n",
       "53500  2023-09-26  174.82  175.200  171.66  171.96    171.96   64548945   \n",
       "53501  2023-09-25  174.20  176.970  174.15  176.08    176.08   46172740   \n",
       "53502  2023-09-22  174.67  177.079  174.05  174.79    174.79   56688985   \n",
       "...           ...     ...      ...     ...     ...       ...        ...   \n",
       "54750  2018-10-05   56.99   57.100   55.15   56.07     53.70  134322000   \n",
       "54751  2018-10-04   57.70   58.090   56.68   57.00     54.59  128168000   \n",
       "54752  2018-10-03   57.51   58.370   57.45   58.02     55.57  114619200   \n",
       "54753  2018-10-02   56.81   57.500   56.66   57.32     54.90   99152800   \n",
       "54754  2018-10-01   56.99   57.360   56.59   56.81     54.41   94403200   \n",
       "\n",
       "      unadjustedVolume  change  changePercent    vwap             label  \\\n",
       "53498         41404049    1.21       0.714539  170.07  September 28, 23   \n",
       "53499         63936754   -2.19      -1.270000  170.53  September 27, 23   \n",
       "53500         64588900   -2.86      -1.640000  172.72  September 26, 23   \n",
       "53501         46172700    1.88       1.080000  175.67  September 25, 23   \n",
       "53502         56663000    0.12       0.068701  175.47  September 22, 23   \n",
       "...                ...     ...            ...     ...               ...   \n",
       "54750        134322000   -0.92      -1.610000   56.11    October 05, 18   \n",
       "54751        128168000   -0.70      -1.210000   57.26    October 04, 18   \n",
       "54752        114619200    0.51       0.886800   57.94    October 03, 18   \n",
       "54753         99152800    0.51       0.897730   57.16    October 02, 18   \n",
       "54754         94403200   -0.18      -0.315840   56.92    October 01, 18   \n",
       "\n",
       "       changeOverTime symbol  \n",
       "53498        0.007145   AAPL  \n",
       "53499       -0.012700   AAPL  \n",
       "53500       -0.016400   AAPL  \n",
       "53501        0.010800   AAPL  \n",
       "53502        0.000687   AAPL  \n",
       "...               ...    ...  \n",
       "54750       -0.016100   AAPL  \n",
       "54751       -0.012100   AAPL  \n",
       "54752        0.008868   AAPL  \n",
       "54753        0.008977   AAPL  \n",
       "54754       -0.003158   AAPL  \n",
       "\n",
       "[1257 rows x 14 columns]"
      ]
     },
     "execution_count": 74,
     "metadata": {},
     "output_type": "execute_result"
    }
   ],
   "source": [
    "sp500_df[sp500_df['symbol']=='AAPL']"
   ]
  },
  {
   "cell_type": "code",
   "execution_count": 75,
   "metadata": {},
   "outputs": [
    {
     "data": {
      "text/plain": [
       "date                False\n",
       "open                False\n",
       "high                False\n",
       "low                 False\n",
       "close               False\n",
       "adjClose            False\n",
       "volume              False\n",
       "unadjustedVolume    False\n",
       "change              False\n",
       "changePercent       False\n",
       "vwap                False\n",
       "label               False\n",
       "changeOverTime      False\n",
       "symbol              False\n",
       "dtype: bool"
      ]
     },
     "execution_count": 75,
     "metadata": {},
     "output_type": "execute_result"
    }
   ],
   "source": [
    "sp500_df.isnull().any()"
   ]
  },
  {
   "cell_type": "code",
   "execution_count": 76,
   "metadata": {},
   "outputs": [
    {
     "data": {
      "text/plain": [
       "date                 object\n",
       "open                float64\n",
       "high                float64\n",
       "low                 float64\n",
       "close               float64\n",
       "adjClose            float64\n",
       "volume               object\n",
       "unadjustedVolume     object\n",
       "change              float64\n",
       "changePercent       float64\n",
       "vwap                float64\n",
       "label                object\n",
       "changeOverTime      float64\n",
       "symbol               object\n",
       "dtype: object"
      ]
     },
     "execution_count": 76,
     "metadata": {},
     "output_type": "execute_result"
    }
   ],
   "source": [
    "sp500_df.dtypes"
   ]
  },
  {
   "cell_type": "code",
   "execution_count": 77,
   "metadata": {},
   "outputs": [],
   "source": [
    "sp500_df['date'] = pd.to_datetime(sp500_df['date'])\n",
    "sp500_df['volume'] = sp500_df['volume'].astype(int)\n",
    "sp500_df['unadjustedVolume'] = sp500_df['unadjustedVolume'].astype(int)"
   ]
  },
  {
   "cell_type": "code",
   "execution_count": 78,
   "metadata": {},
   "outputs": [
    {
     "data": {
      "text/plain": [
       "0"
      ]
     },
     "execution_count": 78,
     "metadata": {},
     "output_type": "execute_result"
    }
   ],
   "source": [
    "sp500_df.duplicated().sum()"
   ]
  },
  {
   "cell_type": "code",
   "execution_count": 80,
   "metadata": {},
   "outputs": [
    {
     "name": "stdout",
     "output_type": "stream",
     "text": [
      "DataFrame has been exported to ./data/sp500_data.csv\n"
     ]
    }
   ],
   "source": [
    "output_file_path = './data/sp500_data.csv'\n",
    "sp500_df.to_csv(output_file_path, index=False)\n",
    "print(f'DataFrame has been exported to {output_file_path}')"
   ]
  },
  {
   "cell_type": "markdown",
   "metadata": {},
   "source": [
    "# **FMP API: Hourly Prices and Sentiment Scores**"
   ]
  },
  {
   "cell_type": "code",
   "execution_count": 111,
   "metadata": {},
   "outputs": [],
   "source": [
    "sample_ticker_sentiment = 'TSLA'\n",
    "\n",
    "sample_endpoint_sentiment = f'https://financialmodelingprep.com/api/v4/historical/social-sentiment?symbol={sample_ticker_sentiment}&page=0&apikey={api_key}'\n",
    "sample_response_sentiment = requests.get(sample_endpoint_sentiment)\n",
    "sample_data_sentiment = sample_response_sentiment.json()"
   ]
  },
  {
   "cell_type": "code",
   "execution_count": 112,
   "metadata": {},
   "outputs": [
    {
     "data": {
      "text/plain": [
       "99"
      ]
     },
     "execution_count": 112,
     "metadata": {},
     "output_type": "execute_result"
    }
   ],
   "source": [
    "len(sample_data_sentiment)"
   ]
  },
  {
   "cell_type": "code",
   "execution_count": 114,
   "metadata": {},
   "outputs": [
    {
     "data": {
      "text/plain": [
       "{'date': '2023-09-28 18:00:00',\n",
       " 'symbol': 'TSLA',\n",
       " 'stocktwitsPosts': 96,\n",
       " 'twitterPosts': 0,\n",
       " 'stocktwitsComments': 26,\n",
       " 'twitterComments': 0,\n",
       " 'stocktwitsLikes': 77,\n",
       " 'twitterLikes': 0,\n",
       " 'stocktwitsImpressions': 247257,\n",
       " 'twitterImpressions': 0,\n",
       " 'stocktwitsSentiment': 0.485,\n",
       " 'twitterSentiment': 0}"
      ]
     },
     "execution_count": 114,
     "metadata": {},
     "output_type": "execute_result"
    }
   ],
   "source": [
    "sample_data_sentiment[0]"
   ]
  },
  {
   "cell_type": "code",
   "execution_count": 86,
   "metadata": {},
   "outputs": [
    {
     "data": {
      "text/plain": [
       "100"
      ]
     },
     "execution_count": 86,
     "metadata": {},
     "output_type": "execute_result"
    }
   ],
   "source": [
    "filtered_sentiment_data = [d['stocktwitsSentiment'] for d in sample_data_sentiment if d.get('date', '').startswith('2023-09')]\n",
    "len(filtered_sentiment_data)"
   ]
  },
  {
   "cell_type": "code",
   "execution_count": 87,
   "metadata": {},
   "outputs": [],
   "source": [
    "sample_ticker_hour = 'TSLA'\n",
    "sample_endpoint_hour = f'https://financialmodelingprep.com/api/v3/historical-chart/1hour/{sample_ticker_hour}?apikey={api_key}'\n",
    "\n",
    "sample_response_hour = requests.get(sample_endpoint_hour)\n",
    "sample_data_hour = sample_response_hour.json()"
   ]
  },
  {
   "cell_type": "code",
   "execution_count": 89,
   "metadata": {},
   "outputs": [
    {
     "data": {
      "text/html": [
       "<div>\n",
       "<style scoped>\n",
       "    .dataframe tbody tr th:only-of-type {\n",
       "        vertical-align: middle;\n",
       "    }\n",
       "\n",
       "    .dataframe tbody tr th {\n",
       "        vertical-align: top;\n",
       "    }\n",
       "\n",
       "    .dataframe thead th {\n",
       "        text-align: right;\n",
       "    }\n",
       "</style>\n",
       "<table border=\"1\" class=\"dataframe\">\n",
       "  <thead>\n",
       "    <tr style=\"text-align: right;\">\n",
       "      <th></th>\n",
       "      <th>date</th>\n",
       "      <th>open</th>\n",
       "      <th>low</th>\n",
       "      <th>high</th>\n",
       "      <th>close</th>\n",
       "      <th>volume</th>\n",
       "    </tr>\n",
       "  </thead>\n",
       "  <tbody>\n",
       "    <tr>\n",
       "      <th>0</th>\n",
       "      <td>2023-09-28 14:00:00</td>\n",
       "      <td>246.0281</td>\n",
       "      <td>244.7400</td>\n",
       "      <td>247.1500</td>\n",
       "      <td>245.0799</td>\n",
       "      <td>9196798</td>\n",
       "    </tr>\n",
       "    <tr>\n",
       "      <th>1</th>\n",
       "      <td>2023-09-28 13:00:00</td>\n",
       "      <td>245.5250</td>\n",
       "      <td>244.5889</td>\n",
       "      <td>246.5000</td>\n",
       "      <td>246.0400</td>\n",
       "      <td>12176174</td>\n",
       "    </tr>\n",
       "    <tr>\n",
       "      <th>2</th>\n",
       "      <td>2023-09-28 12:00:00</td>\n",
       "      <td>247.3750</td>\n",
       "      <td>244.9600</td>\n",
       "      <td>247.5500</td>\n",
       "      <td>245.5300</td>\n",
       "      <td>15330662</td>\n",
       "    </tr>\n",
       "    <tr>\n",
       "      <th>3</th>\n",
       "      <td>2023-09-28 11:00:00</td>\n",
       "      <td>241.6900</td>\n",
       "      <td>241.1201</td>\n",
       "      <td>247.3899</td>\n",
       "      <td>247.3601</td>\n",
       "      <td>20066222</td>\n",
       "    </tr>\n",
       "    <tr>\n",
       "      <th>4</th>\n",
       "      <td>2023-09-28 10:00:00</td>\n",
       "      <td>242.6700</td>\n",
       "      <td>238.7800</td>\n",
       "      <td>243.3000</td>\n",
       "      <td>241.7077</td>\n",
       "      <td>21933293</td>\n",
       "    </tr>\n",
       "    <tr>\n",
       "      <th>...</th>\n",
       "      <td>...</td>\n",
       "      <td>...</td>\n",
       "      <td>...</td>\n",
       "      <td>...</td>\n",
       "      <td>...</td>\n",
       "      <td>...</td>\n",
       "    </tr>\n",
       "    <tr>\n",
       "      <th>397</th>\n",
       "      <td>2023-07-10 16:00:00</td>\n",
       "      <td>269.6100</td>\n",
       "      <td>269.0000</td>\n",
       "      <td>269.8900</td>\n",
       "      <td>269.1200</td>\n",
       "      <td>737716</td>\n",
       "    </tr>\n",
       "    <tr>\n",
       "      <th>398</th>\n",
       "      <td>2023-07-10 15:00:00</td>\n",
       "      <td>269.2100</td>\n",
       "      <td>268.4200</td>\n",
       "      <td>269.9500</td>\n",
       "      <td>269.5000</td>\n",
       "      <td>12265901</td>\n",
       "    </tr>\n",
       "    <tr>\n",
       "      <th>399</th>\n",
       "      <td>2023-07-10 14:00:00</td>\n",
       "      <td>268.3800</td>\n",
       "      <td>268.0500</td>\n",
       "      <td>270.3600</td>\n",
       "      <td>269.1885</td>\n",
       "      <td>11951668</td>\n",
       "    </tr>\n",
       "    <tr>\n",
       "      <th>400</th>\n",
       "      <td>2023-07-10 13:00:00</td>\n",
       "      <td>268.8700</td>\n",
       "      <td>267.7600</td>\n",
       "      <td>269.5500</td>\n",
       "      <td>268.3500</td>\n",
       "      <td>11880400</td>\n",
       "    </tr>\n",
       "    <tr>\n",
       "      <th>401</th>\n",
       "      <td>2023-07-10 12:00:00</td>\n",
       "      <td>267.5950</td>\n",
       "      <td>266.9600</td>\n",
       "      <td>269.1599</td>\n",
       "      <td>268.8700</td>\n",
       "      <td>5620305</td>\n",
       "    </tr>\n",
       "  </tbody>\n",
       "</table>\n",
       "<p>402 rows × 6 columns</p>\n",
       "</div>"
      ],
      "text/plain": [
       "                    date      open       low      high     close    volume\n",
       "0    2023-09-28 14:00:00  246.0281  244.7400  247.1500  245.0799   9196798\n",
       "1    2023-09-28 13:00:00  245.5250  244.5889  246.5000  246.0400  12176174\n",
       "2    2023-09-28 12:00:00  247.3750  244.9600  247.5500  245.5300  15330662\n",
       "3    2023-09-28 11:00:00  241.6900  241.1201  247.3899  247.3601  20066222\n",
       "4    2023-09-28 10:00:00  242.6700  238.7800  243.3000  241.7077  21933293\n",
       "..                   ...       ...       ...       ...       ...       ...\n",
       "397  2023-07-10 16:00:00  269.6100  269.0000  269.8900  269.1200    737716\n",
       "398  2023-07-10 15:00:00  269.2100  268.4200  269.9500  269.5000  12265901\n",
       "399  2023-07-10 14:00:00  268.3800  268.0500  270.3600  269.1885  11951668\n",
       "400  2023-07-10 13:00:00  268.8700  267.7600  269.5500  268.3500  11880400\n",
       "401  2023-07-10 12:00:00  267.5950  266.9600  269.1599  268.8700   5620305\n",
       "\n",
       "[402 rows x 6 columns]"
      ]
     },
     "execution_count": 89,
     "metadata": {},
     "output_type": "execute_result"
    }
   ],
   "source": [
    "pd.DataFrame(sample_data_hour)"
   ]
  },
  {
   "cell_type": "code",
   "execution_count": 102,
   "metadata": {},
   "outputs": [],
   "source": [
    "columns =list(sample_data_hour[0].keys()) + ['symbol']"
   ]
  },
  {
   "cell_type": "code",
   "execution_count": 103,
   "metadata": {},
   "outputs": [
    {
     "data": {
      "text/plain": [
       "['date', 'open', 'low', 'high', 'close', 'volume', 'symbol']"
      ]
     },
     "execution_count": 103,
     "metadata": {},
     "output_type": "execute_result"
    }
   ],
   "source": [
    "columns"
   ]
  },
  {
   "cell_type": "code",
   "execution_count": 91,
   "metadata": {},
   "outputs": [
    {
     "name": "stderr",
     "output_type": "stream",
     "text": [
      "Collecting data: 100%|██████████| 503/503 [14:06<00:00,  1.68s/it]\n"
     ]
    }
   ],
   "source": [
    "hour_df = pd.DataFrame(columns=columns)\n",
    "for ticker in tqdm(tickers, desc='Collecting data'):\n",
    "    endpoint = f'https://financialmodelingprep.com/api/v3/historical-chart/1hour/{ticker}?apikey={api_key}'\n",
    "    response = requests.get(endpoint)\n",
    "    data = response.json()\n",
    "\n",
    "    if data:\n",
    "        df = pd.DataFrame(data)\n",
    "        df['symbol'] = ticker\n",
    "    else:\n",
    "        print(f'No data for {ticker}.')\n",
    "    hour_df = pd.concat([hour_df, df], ignore_index=True)"
   ]
  },
  {
   "cell_type": "code",
   "execution_count": 101,
   "metadata": {},
   "outputs": [
    {
     "data": {
      "text/plain": [
       "4"
      ]
     },
     "execution_count": 101,
     "metadata": {},
     "output_type": "execute_result"
    }
   ],
   "source": [
    "int(len(hour_df[hour_df['symbol']=='MMM']) / 100)"
   ]
  },
  {
   "cell_type": "code",
   "execution_count": 117,
   "metadata": {},
   "outputs": [
    {
     "name": "stderr",
     "output_type": "stream",
     "text": [
      "Collecting data:   0%|          | 0/503 [00:00<?, ?it/s]"
     ]
    },
    {
     "name": "stderr",
     "output_type": "stream",
     "text": [
      "Collecting data: 100%|██████████| 503/503 [13:33<00:00,  1.62s/it]\n"
     ]
    }
   ],
   "source": [
    "sentiment_df = pd.DataFrame(columns=list(sample_data_sentiment[0].keys()))\n",
    "no_data_list = []\n",
    "for ticker in tqdm(tickers, desc='Collecting data'):\n",
    "    for page_num in range(int(len(hour_df[hour_df['symbol']==ticker])/100)):\n",
    "        endpoint = f'https://financialmodelingprep.com/api/v4/historical/social-sentiment?symbol={ticker}&page={page_num}&apikey={api_key}'\n",
    "        response = requests.get(endpoint)\n",
    "        data = response.json()\n",
    "\n",
    "        if data:\n",
    "            df = pd.DataFrame(data)\n",
    "        else:\n",
    "            no_data_list.append(ticker)\n",
    "        sentiment_df = pd.concat([sentiment_df, df], ignore_index=True)"
   ]
  },
  {
   "cell_type": "code",
   "execution_count": 127,
   "metadata": {},
   "outputs": [],
   "source": [
    "sentiment_tickers = list(sentiment_df.symbol.unique())"
   ]
  },
  {
   "cell_type": "code",
   "execution_count": 128,
   "metadata": {},
   "outputs": [],
   "source": [
    "merged_df = pd.merge(hour_df, sentiment_df, on=['symbol', 'date'])    "
   ]
  },
  {
   "cell_type": "code",
   "execution_count": 131,
   "metadata": {},
   "outputs": [
    {
     "data": {
      "text/html": [
       "<div>\n",
       "<style scoped>\n",
       "    .dataframe tbody tr th:only-of-type {\n",
       "        vertical-align: middle;\n",
       "    }\n",
       "\n",
       "    .dataframe tbody tr th {\n",
       "        vertical-align: top;\n",
       "    }\n",
       "\n",
       "    .dataframe thead th {\n",
       "        text-align: right;\n",
       "    }\n",
       "</style>\n",
       "<table border=\"1\" class=\"dataframe\">\n",
       "  <thead>\n",
       "    <tr style=\"text-align: right;\">\n",
       "      <th></th>\n",
       "      <th>date</th>\n",
       "      <th>open</th>\n",
       "      <th>low</th>\n",
       "      <th>high</th>\n",
       "      <th>close</th>\n",
       "      <th>volume</th>\n",
       "      <th>symbol</th>\n",
       "      <th>stocktwitsPosts</th>\n",
       "      <th>twitterPosts</th>\n",
       "      <th>stocktwitsComments</th>\n",
       "      <th>twitterComments</th>\n",
       "      <th>stocktwitsLikes</th>\n",
       "      <th>twitterLikes</th>\n",
       "      <th>stocktwitsImpressions</th>\n",
       "      <th>twitterImpressions</th>\n",
       "      <th>stocktwitsSentiment</th>\n",
       "      <th>twitterSentiment</th>\n",
       "    </tr>\n",
       "  </thead>\n",
       "  <tbody>\n",
       "    <tr>\n",
       "      <th>0</th>\n",
       "      <td>2023-09-27 13:00:00</td>\n",
       "      <td>95.32</td>\n",
       "      <td>94.98</td>\n",
       "      <td>95.41</td>\n",
       "      <td>95.09</td>\n",
       "      <td>413663</td>\n",
       "      <td>ABT</td>\n",
       "      <td>3</td>\n",
       "      <td>0</td>\n",
       "      <td>0</td>\n",
       "      <td>0</td>\n",
       "      <td>6</td>\n",
       "      <td>0</td>\n",
       "      <td>17562</td>\n",
       "      <td>0</td>\n",
       "      <td>0.5</td>\n",
       "      <td>0</td>\n",
       "    </tr>\n",
       "    <tr>\n",
       "      <th>1</th>\n",
       "      <td>2023-09-26 15:00:00</td>\n",
       "      <td>96.26</td>\n",
       "      <td>96.03</td>\n",
       "      <td>96.35</td>\n",
       "      <td>96.22</td>\n",
       "      <td>883574</td>\n",
       "      <td>ABT</td>\n",
       "      <td>1</td>\n",
       "      <td>0</td>\n",
       "      <td>0</td>\n",
       "      <td>0</td>\n",
       "      <td>1</td>\n",
       "      <td>0</td>\n",
       "      <td>23</td>\n",
       "      <td>0</td>\n",
       "      <td>0.5</td>\n",
       "      <td>0</td>\n",
       "    </tr>\n",
       "    <tr>\n",
       "      <th>2</th>\n",
       "      <td>2023-09-26 13:00:00</td>\n",
       "      <td>96.47</td>\n",
       "      <td>96.17</td>\n",
       "      <td>96.62</td>\n",
       "      <td>96.28</td>\n",
       "      <td>374200</td>\n",
       "      <td>ABT</td>\n",
       "      <td>1</td>\n",
       "      <td>0</td>\n",
       "      <td>0</td>\n",
       "      <td>0</td>\n",
       "      <td>0</td>\n",
       "      <td>0</td>\n",
       "      <td>3882</td>\n",
       "      <td>0</td>\n",
       "      <td>0.6</td>\n",
       "      <td>0</td>\n",
       "    </tr>\n",
       "    <tr>\n",
       "      <th>3</th>\n",
       "      <td>2023-09-25 13:00:00</td>\n",
       "      <td>97.38</td>\n",
       "      <td>97.22</td>\n",
       "      <td>97.60</td>\n",
       "      <td>97.39</td>\n",
       "      <td>351481</td>\n",
       "      <td>ABT</td>\n",
       "      <td>1</td>\n",
       "      <td>0</td>\n",
       "      <td>0</td>\n",
       "      <td>0</td>\n",
       "      <td>0</td>\n",
       "      <td>0</td>\n",
       "      <td>89</td>\n",
       "      <td>0</td>\n",
       "      <td>0.5</td>\n",
       "      <td>0</td>\n",
       "    </tr>\n",
       "    <tr>\n",
       "      <th>4</th>\n",
       "      <td>2023-09-22 12:00:00</td>\n",
       "      <td>98.56</td>\n",
       "      <td>98.40</td>\n",
       "      <td>98.61</td>\n",
       "      <td>98.51</td>\n",
       "      <td>271445</td>\n",
       "      <td>ABT</td>\n",
       "      <td>2</td>\n",
       "      <td>0</td>\n",
       "      <td>0</td>\n",
       "      <td>0</td>\n",
       "      <td>2</td>\n",
       "      <td>0</td>\n",
       "      <td>11900</td>\n",
       "      <td>0</td>\n",
       "      <td>0.45</td>\n",
       "      <td>0</td>\n",
       "    </tr>\n",
       "  </tbody>\n",
       "</table>\n",
       "</div>"
      ],
      "text/plain": [
       "                  date   open    low   high  close  volume symbol  \\\n",
       "0  2023-09-27 13:00:00  95.32  94.98  95.41  95.09  413663    ABT   \n",
       "1  2023-09-26 15:00:00  96.26  96.03  96.35  96.22  883574    ABT   \n",
       "2  2023-09-26 13:00:00  96.47  96.17  96.62  96.28  374200    ABT   \n",
       "3  2023-09-25 13:00:00  97.38  97.22  97.60  97.39  351481    ABT   \n",
       "4  2023-09-22 12:00:00  98.56  98.40  98.61  98.51  271445    ABT   \n",
       "\n",
       "  stocktwitsPosts twitterPosts stocktwitsComments twitterComments  \\\n",
       "0               3            0                  0               0   \n",
       "1               1            0                  0               0   \n",
       "2               1            0                  0               0   \n",
       "3               1            0                  0               0   \n",
       "4               2            0                  0               0   \n",
       "\n",
       "  stocktwitsLikes twitterLikes stocktwitsImpressions twitterImpressions  \\\n",
       "0               6            0                 17562                  0   \n",
       "1               1            0                    23                  0   \n",
       "2               0            0                  3882                  0   \n",
       "3               0            0                    89                  0   \n",
       "4               2            0                 11900                  0   \n",
       "\n",
       "  stocktwitsSentiment twitterSentiment  \n",
       "0                 0.5                0  \n",
       "1                 0.5                0  \n",
       "2                 0.6                0  \n",
       "3                 0.5                0  \n",
       "4                0.45                0  "
      ]
     },
     "execution_count": 131,
     "metadata": {},
     "output_type": "execute_result"
    }
   ],
   "source": [
    "merged_df.head()"
   ]
  },
  {
   "cell_type": "code",
   "execution_count": 133,
   "metadata": {},
   "outputs": [],
   "source": [
    "final_df = merged_df[['symbol', 'date', 'low', 'high', 'close', 'volume', 'stocktwitsSentiment']]"
   ]
  },
  {
   "cell_type": "code",
   "execution_count": 135,
   "metadata": {},
   "outputs": [
    {
     "data": {
      "text/plain": [
       "symbol                  object\n",
       "date                    object\n",
       "low                    float64\n",
       "high                   float64\n",
       "close                  float64\n",
       "volume                  object\n",
       "stocktwitsSentiment     object\n",
       "dtype: object"
      ]
     },
     "execution_count": 135,
     "metadata": {},
     "output_type": "execute_result"
    }
   ],
   "source": [
    "final_df.dtypes"
   ]
  },
  {
   "cell_type": "code",
   "execution_count": 137,
   "metadata": {},
   "outputs": [
    {
     "name": "stderr",
     "output_type": "stream",
     "text": [
      "/tmp/ipykernel_28023/2620825327.py:1: SettingWithCopyWarning: \n",
      "A value is trying to be set on a copy of a slice from a DataFrame.\n",
      "Try using .loc[row_indexer,col_indexer] = value instead\n",
      "\n",
      "See the caveats in the documentation: https://pandas.pydata.org/pandas-docs/stable/user_guide/indexing.html#returning-a-view-versus-a-copy\n",
      "  final_df['date'] = pd.to_datetime(final_df['date'])\n",
      "/tmp/ipykernel_28023/2620825327.py:2: SettingWithCopyWarning: \n",
      "A value is trying to be set on a copy of a slice from a DataFrame.\n",
      "Try using .loc[row_indexer,col_indexer] = value instead\n",
      "\n",
      "See the caveats in the documentation: https://pandas.pydata.org/pandas-docs/stable/user_guide/indexing.html#returning-a-view-versus-a-copy\n",
      "  final_df['volume'] = final_df['volume'].astype(int)\n",
      "/tmp/ipykernel_28023/2620825327.py:3: SettingWithCopyWarning: \n",
      "A value is trying to be set on a copy of a slice from a DataFrame.\n",
      "Try using .loc[row_indexer,col_indexer] = value instead\n",
      "\n",
      "See the caveats in the documentation: https://pandas.pydata.org/pandas-docs/stable/user_guide/indexing.html#returning-a-view-versus-a-copy\n",
      "  final_df['stocktwitsSentiment'] = final_df['stocktwitsSentiment'].astype('float64')\n"
     ]
    }
   ],
   "source": [
    "final_df['date'] = pd.to_datetime(final_df['date'])\n",
    "final_df['volume'] = final_df['volume'].astype(int)\n",
    "final_df['stocktwitsSentiment'] = final_df['stocktwitsSentiment'].astype('float64')\n"
   ]
  },
  {
   "cell_type": "code",
   "execution_count": 139,
   "metadata": {},
   "outputs": [
    {
     "name": "stdout",
     "output_type": "stream",
     "text": [
      "DataFrame has been exported to ./data/sentiment_data.csv\n"
     ]
    }
   ],
   "source": [
    "output_file_path = './data/sentiment_data.csv'\n",
    "final_df.to_csv(output_file_path, index=False)\n",
    "print(f'DataFrame has been exported to {output_file_path}')"
   ]
  }
 ],
 "metadata": {
  "kernelspec": {
   "display_name": "Python 3",
   "language": "python",
   "name": "python3"
  },
  "language_info": {
   "codemirror_mode": {
    "name": "ipython",
    "version": 3
   },
   "file_extension": ".py",
   "mimetype": "text/x-python",
   "name": "python",
   "nbconvert_exporter": "python",
   "pygments_lexer": "ipython3",
   "version": "3.10.12"
  },
  "orig_nbformat": 4,
  "vscode": {
   "interpreter": {
    "hash": "aee8b7b246df8f9039afb4144a1f6fd8d2ca17a180786b69acc140d282b71a49"
   }
  }
 },
 "nbformat": 4,
 "nbformat_minor": 2
}
