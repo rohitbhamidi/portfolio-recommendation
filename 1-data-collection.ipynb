{
 "cells": [
  {
   "cell_type": "code",
   "execution_count": 78,
   "metadata": {},
   "outputs": [],
   "source": [
    "import requests\n",
    "import os\n",
    "import datetime\n",
    "import pandas as pd\n",
    "from bs4 import BeautifulSoup\n",
    "from dotenv import load_dotenv\n",
    "from tqdm import tqdm"
   ]
  },
  {
   "attachments": {},
   "cell_type": "markdown",
   "metadata": {},
   "source": [
    "# **Wikipedia: S&P500 Tickers and Sector**s"
   ]
  },
  {
   "cell_type": "code",
   "execution_count": 2,
   "metadata": {},
   "outputs": [],
   "source": [
    "wiki_url = \"https://en.wikipedia.org/wiki/List_of_S%26P_500_companies\"\n",
    "response = requests.get(wiki_url)\n",
    "content = response.content\n",
    "soup = BeautifulSoup(content, 'html.parser')"
   ]
  },
  {
   "cell_type": "code",
   "execution_count": 4,
   "metadata": {},
   "outputs": [],
   "source": [
    "table = soup.find('table', class_='wikitable sortable')\n",
    "rows = table.find_all('tr')[1:]"
   ]
  },
  {
   "cell_type": "code",
   "execution_count": 6,
   "metadata": {},
   "outputs": [],
   "source": [
    "sectors = []\n",
    "tickers = []\n",
    "\n",
    "for row in rows:\n",
    "    cells = row.find_all('td')\n",
    "    sectors.append(cells[2].text.strip())\n",
    "    tickers.append(cells[0].text.strip())"
   ]
  },
  {
   "attachments": {},
   "cell_type": "markdown",
   "metadata": {},
   "source": [
    "# **Financial Modeling Prep API: Financial Data from the last 10 years**"
   ]
  },
  {
   "cell_type": "code",
   "execution_count": 9,
   "metadata": {},
   "outputs": [],
   "source": [
    "load_dotenv('.env')\n",
    "api_key = os.getenv('FMP_KEY')"
   ]
  },
  {
   "cell_type": "code",
   "execution_count": 84,
   "metadata": {},
   "outputs": [],
   "source": [
    "sample_ticker = 'AAPL'\n",
    "sample_days = 2520\n",
    "sample_endpoint = f'https://financialmodelingprep.com/api/v3/historical-price-full/{sample_ticker}?timeseries={sample_days}&apikey={api_key}'\n",
    "\n",
    "sample_response = requests.get(sample_endpoint)\n",
    "sample_data = sample_response.json()"
   ]
  },
  {
   "cell_type": "code",
   "execution_count": 85,
   "metadata": {},
   "outputs": [],
   "source": [
    "columns = list(sample_data['historical'][0].keys()) + ['symbol']"
   ]
  },
  {
   "cell_type": "code",
   "execution_count": 88,
   "metadata": {},
   "outputs": [],
   "source": [
    "def endpoint_string_10_years(ticker, days):\n",
    "    return f'https://financialmodelingprep.com/api/v3/historical-price-full/{ticker}?timeseries={days}&apikey={api_key}'"
   ]
  },
  {
   "cell_type": "code",
   "execution_count": 90,
   "metadata": {},
   "outputs": [
    {
     "name": "stderr",
     "output_type": "stream",
     "text": [
      "Collecting data: 100%|██████████| 503/503 [04:59<00:00,  1.68it/s]\n"
     ]
    }
   ],
   "source": [
    "sp500_df = pd.DataFrame(columns=columns)\n",
    "for ticker in tqdm(tickers, desc='Collecting data'):\n",
    "    endpoint = endpoint_string_10_years(ticker, 2520)\n",
    "    response = requests.get(endpoint)\n",
    "    data = response.json()\n",
    "\n",
    "    if data:\n",
    "        df = pd.DataFrame(sample_data['historical'])\n",
    "        df['symbol'] = ticker\n",
    "    else:\n",
    "        print(f'No data for {ticker}.')\n",
    "    sp500_df = pd.concat([sp500_df, df], ignore_index=True)"
   ]
  },
  {
   "cell_type": "code",
   "execution_count": 97,
   "metadata": {},
   "outputs": [
    {
     "data": {
      "text/html": [
       "<div>\n",
       "<style scoped>\n",
       "    .dataframe tbody tr th:only-of-type {\n",
       "        vertical-align: middle;\n",
       "    }\n",
       "\n",
       "    .dataframe tbody tr th {\n",
       "        vertical-align: top;\n",
       "    }\n",
       "\n",
       "    .dataframe thead th {\n",
       "        text-align: right;\n",
       "    }\n",
       "</style>\n",
       "<table border=\"1\" class=\"dataframe\">\n",
       "  <thead>\n",
       "    <tr style=\"text-align: right;\">\n",
       "      <th></th>\n",
       "      <th>date</th>\n",
       "      <th>open</th>\n",
       "      <th>high</th>\n",
       "      <th>low</th>\n",
       "      <th>close</th>\n",
       "      <th>adjClose</th>\n",
       "      <th>volume</th>\n",
       "      <th>unadjustedVolume</th>\n",
       "      <th>change</th>\n",
       "      <th>changePercent</th>\n",
       "      <th>vwap</th>\n",
       "      <th>label</th>\n",
       "      <th>changeOverTime</th>\n",
       "      <th>symbol</th>\n",
       "    </tr>\n",
       "  </thead>\n",
       "  <tbody>\n",
       "    <tr>\n",
       "      <th>0</th>\n",
       "      <td>2023-09-27</td>\n",
       "      <td>172.62</td>\n",
       "      <td>173.040</td>\n",
       "      <td>169.05</td>\n",
       "      <td>169.53</td>\n",
       "      <td>169.53</td>\n",
       "      <td>37496091</td>\n",
       "      <td>37496091</td>\n",
       "      <td>-3.09</td>\n",
       "      <td>-1.790060</td>\n",
       "      <td>170.54</td>\n",
       "      <td>September 27, 23</td>\n",
       "      <td>-0.017901</td>\n",
       "      <td>MMM</td>\n",
       "    </tr>\n",
       "    <tr>\n",
       "      <th>1</th>\n",
       "      <td>2023-09-26</td>\n",
       "      <td>174.82</td>\n",
       "      <td>175.200</td>\n",
       "      <td>171.66</td>\n",
       "      <td>171.96</td>\n",
       "      <td>171.96</td>\n",
       "      <td>64422378</td>\n",
       "      <td>61108831</td>\n",
       "      <td>-2.86</td>\n",
       "      <td>-1.640000</td>\n",
       "      <td>172.72</td>\n",
       "      <td>September 26, 23</td>\n",
       "      <td>-0.016400</td>\n",
       "      <td>MMM</td>\n",
       "    </tr>\n",
       "    <tr>\n",
       "      <th>2</th>\n",
       "      <td>2023-09-25</td>\n",
       "      <td>174.20</td>\n",
       "      <td>176.970</td>\n",
       "      <td>174.15</td>\n",
       "      <td>176.08</td>\n",
       "      <td>176.08</td>\n",
       "      <td>46172740</td>\n",
       "      <td>46172700</td>\n",
       "      <td>1.88</td>\n",
       "      <td>1.080000</td>\n",
       "      <td>175.67</td>\n",
       "      <td>September 25, 23</td>\n",
       "      <td>0.010800</td>\n",
       "      <td>MMM</td>\n",
       "    </tr>\n",
       "    <tr>\n",
       "      <th>3</th>\n",
       "      <td>2023-09-22</td>\n",
       "      <td>174.67</td>\n",
       "      <td>177.079</td>\n",
       "      <td>174.05</td>\n",
       "      <td>174.79</td>\n",
       "      <td>174.79</td>\n",
       "      <td>56688985</td>\n",
       "      <td>56663000</td>\n",
       "      <td>0.12</td>\n",
       "      <td>0.068701</td>\n",
       "      <td>175.47</td>\n",
       "      <td>September 22, 23</td>\n",
       "      <td>0.000687</td>\n",
       "      <td>MMM</td>\n",
       "    </tr>\n",
       "    <tr>\n",
       "      <th>4</th>\n",
       "      <td>2023-09-21</td>\n",
       "      <td>174.55</td>\n",
       "      <td>176.300</td>\n",
       "      <td>173.86</td>\n",
       "      <td>173.93</td>\n",
       "      <td>173.93</td>\n",
       "      <td>62449116</td>\n",
       "      <td>63047900</td>\n",
       "      <td>-0.62</td>\n",
       "      <td>-0.355200</td>\n",
       "      <td>174.86</td>\n",
       "      <td>September 21, 23</td>\n",
       "      <td>-0.003552</td>\n",
       "      <td>MMM</td>\n",
       "    </tr>\n",
       "  </tbody>\n",
       "</table>\n",
       "</div>"
      ],
      "text/plain": [
       "         date    open     high     low   close  adjClose    volume  \\\n",
       "0  2023-09-27  172.62  173.040  169.05  169.53    169.53  37496091   \n",
       "1  2023-09-26  174.82  175.200  171.66  171.96    171.96  64422378   \n",
       "2  2023-09-25  174.20  176.970  174.15  176.08    176.08  46172740   \n",
       "3  2023-09-22  174.67  177.079  174.05  174.79    174.79  56688985   \n",
       "4  2023-09-21  174.55  176.300  173.86  173.93    173.93  62449116   \n",
       "\n",
       "  unadjustedVolume  change  changePercent    vwap             label  \\\n",
       "0         37496091   -3.09      -1.790060  170.54  September 27, 23   \n",
       "1         61108831   -2.86      -1.640000  172.72  September 26, 23   \n",
       "2         46172700    1.88       1.080000  175.67  September 25, 23   \n",
       "3         56663000    0.12       0.068701  175.47  September 22, 23   \n",
       "4         63047900   -0.62      -0.355200  174.86  September 21, 23   \n",
       "\n",
       "   changeOverTime symbol  \n",
       "0       -0.017901    MMM  \n",
       "1       -0.016400    MMM  \n",
       "2        0.010800    MMM  \n",
       "3        0.000687    MMM  \n",
       "4       -0.003552    MMM  "
      ]
     },
     "execution_count": 97,
     "metadata": {},
     "output_type": "execute_result"
    }
   ],
   "source": [
    "sp500_df.head()"
   ]
  },
  {
   "cell_type": "code",
   "execution_count": 95,
   "metadata": {},
   "outputs": [
    {
     "data": {
      "text/plain": [
       "date                False\n",
       "open                False\n",
       "high                False\n",
       "low                 False\n",
       "close               False\n",
       "adjClose            False\n",
       "volume              False\n",
       "unadjustedVolume    False\n",
       "change              False\n",
       "changePercent       False\n",
       "vwap                False\n",
       "label               False\n",
       "changeOverTime      False\n",
       "symbol              False\n",
       "dtype: bool"
      ]
     },
     "execution_count": 95,
     "metadata": {},
     "output_type": "execute_result"
    }
   ],
   "source": [
    "sp500_df.isnull().any()"
   ]
  },
  {
   "cell_type": "code",
   "execution_count": 96,
   "metadata": {},
   "outputs": [
    {
     "data": {
      "text/plain": [
       "date                 object\n",
       "open                float64\n",
       "high                float64\n",
       "low                 float64\n",
       "close               float64\n",
       "adjClose            float64\n",
       "volume               object\n",
       "unadjustedVolume     object\n",
       "change              float64\n",
       "changePercent       float64\n",
       "vwap                float64\n",
       "label                object\n",
       "changeOverTime      float64\n",
       "symbol               object\n",
       "dtype: object"
      ]
     },
     "execution_count": 96,
     "metadata": {},
     "output_type": "execute_result"
    }
   ],
   "source": [
    "sp500_df.dtypes"
   ]
  },
  {
   "cell_type": "code",
   "execution_count": 98,
   "metadata": {},
   "outputs": [],
   "source": [
    "sp500_df['date'] = pd.to_datetime(sp500_df['date'])\n",
    "sp500_df['volume'] = sp500_df['volume'].astype(int)\n",
    "sp500_df['unadjustedVolume'] = sp500_df['unadjustedVolume'].astype(int)"
   ]
  },
  {
   "cell_type": "code",
   "execution_count": 100,
   "metadata": {},
   "outputs": [
    {
     "data": {
      "text/plain": [
       "0"
      ]
     },
     "execution_count": 100,
     "metadata": {},
     "output_type": "execute_result"
    }
   ],
   "source": [
    "sp500_df.duplicated().sum()"
   ]
  },
  {
   "cell_type": "code",
   "execution_count": 101,
   "metadata": {},
   "outputs": [
    {
     "name": "stdout",
     "output_type": "stream",
     "text": [
      "DataFrame has been exported to ./data/sp500_data.csv\n"
     ]
    }
   ],
   "source": [
    "output_file_path = './data/sp500_data.csv'\n",
    "sp500_df.to_csv(output_file_path, index=False)\n",
    "print(f'DataFrame has been exported to {output_file_path}')"
   ]
  }
 ],
 "metadata": {
  "kernelspec": {
   "display_name": "Python 3",
   "language": "python",
   "name": "python3"
  },
  "language_info": {
   "codemirror_mode": {
    "name": "ipython",
    "version": 3
   },
   "file_extension": ".py",
   "mimetype": "text/x-python",
   "name": "python",
   "nbconvert_exporter": "python",
   "pygments_lexer": "ipython3",
   "version": "3.11.1"
  },
  "orig_nbformat": 4,
  "vscode": {
   "interpreter": {
    "hash": "aee8b7b246df8f9039afb4144a1f6fd8d2ca17a180786b69acc140d282b71a49"
   }
  }
 },
 "nbformat": 4,
 "nbformat_minor": 2
}
